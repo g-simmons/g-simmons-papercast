{
 "cells": [
  {
   "cell_type": "code",
   "execution_count": 7,
   "id": "artistic-commerce",
   "metadata": {
    "scrolled": true
   },
   "outputs": [],
   "source": [
    "import scipdf\n",
    "import arxiv"
   ]
  },
  {
   "cell_type": "code",
   "execution_count": null,
   "id": "lovely-whole",
   "metadata": {},
   "outputs": [],
   "source": [
    "with open('../data/reading_list.txt','r'):\n",
    "    arxiv_urls = f."
   ]
  },
  {
   "cell_type": "code",
   "execution_count": 8,
   "id": "still-knife",
   "metadata": {},
   "outputs": [],
   "source": [
    "id_list = ['1912.13318']"
   ]
  },
  {
   "cell_type": "code",
   "execution_count": 9,
   "id": "front-luther",
   "metadata": {},
   "outputs": [],
   "source": [
    "results = arxiv.query(id_list=id_list)"
   ]
  },
  {
   "cell_type": "code",
   "execution_count": 11,
   "id": "welcome-hunger",
   "metadata": {},
   "outputs": [
    {
     "data": {
      "text/plain": [
       "'./data/pdfs/1912.13318v5.LayoutLM_Pre_training_of_Text_and_Layout_for_Document_Image_Understanding.pdf'"
      ]
     },
     "execution_count": 11,
     "metadata": {},
     "output_type": "execute_result"
    }
   ],
   "source": [
    "arxiv.arxiv.download(results[0], dirpath='./data/pdfs')"
   ]
  },
  {
   "cell_type": "code",
   "execution_count": 12,
   "id": "supported-blues",
   "metadata": {},
   "outputs": [],
   "source": [
    "path = './data/pdfs/1912.13318v5.LayoutLM_Pre_training_of_Text_and_Layout_for_Document_Image_Understanding.pdf'"
   ]
  },
  {
   "cell_type": "code",
   "execution_count": 13,
   "id": "universal-shore",
   "metadata": {},
   "outputs": [],
   "source": [
    "article_dict = scipdf.parse_pdf_to_dict(path)"
   ]
  },
  {
   "cell_type": "code",
   "execution_count": 24,
   "id": "floppy-heavy",
   "metadata": {},
   "outputs": [],
   "source": [
    "def get_text_from_dict(article_dict):\n",
    "    ret = [article_dict['title'],article_dict['abstract']]\n",
    "    for section in article_dict['sections']:\n",
    "        ret.append(section['heading'])\n",
    "        ret.append(section['text'])\n",
    "    return '\\n\\n'.join(ret)"
   ]
  },
  {
   "cell_type": "code",
   "execution_count": 27,
   "id": "wireless-vaccine",
   "metadata": {},
   "outputs": [],
   "source": [
    "txt = get_text_from_dict(article_dict)"
   ]
  },
  {
   "cell_type": "code",
   "execution_count": 33,
   "id": "large-symphony",
   "metadata": {},
   "outputs": [],
   "source": [
    "txtpath = path.replace('pdf','txt')"
   ]
  },
  {
   "cell_type": "code",
   "execution_count": 34,
   "id": "taken-brown",
   "metadata": {},
   "outputs": [],
   "source": [
    "with open(txtpath,'w') as f:\n",
    "    f.write(txt)"
   ]
  },
  {
   "cell_type": "code",
   "execution_count": 32,
   "id": "complex-secret",
   "metadata": {},
   "outputs": [],
   "source": [
    "import subprocess"
   ]
  },
  {
   "cell_type": "code",
   "execution_count": 35,
   "id": "perfect-islam",
   "metadata": {},
   "outputs": [],
   "source": [
    "aiffpath = txtpath.replace('txt','aiff')"
   ]
  },
  {
   "cell_type": "code",
   "execution_count": 36,
   "id": "expanded-brother",
   "metadata": {},
   "outputs": [],
   "source": [
    "cmd = ['say','-f',txtpath,'-o',aiffpath]"
   ]
  },
  {
   "cell_type": "code",
   "execution_count": 37,
   "id": "express-adobe",
   "metadata": {},
   "outputs": [
    {
     "data": {
      "text/plain": [
       "CompletedProcess(args=['say', '-f', './data/txts/1912.13318v5.LayoutLM_Pre_training_of_Text_and_Layout_for_Document_Image_Understanding.txt', '-o', './data/aiffs/1912.13318v5.LayoutLM_Pre_training_of_Text_and_Layout_for_Document_Image_Understanding.aiff'], returncode=0)"
      ]
     },
     "execution_count": 37,
     "metadata": {},
     "output_type": "execute_result"
    }
   ],
   "source": [
    "subprocess.run(cmd)"
   ]
  }
 ],
 "metadata": {
  "kernelspec": {
   "display_name": "Python 3",
   "language": "python",
   "name": "python3"
  },
  "language_info": {
   "codemirror_mode": {
    "name": "ipython",
    "version": 3
   },
   "file_extension": ".py",
   "mimetype": "text/x-python",
   "name": "python",
   "nbconvert_exporter": "python",
   "pygments_lexer": "ipython3",
   "version": "3.9.2"
  }
 },
 "nbformat": 4,
 "nbformat_minor": 5
}
