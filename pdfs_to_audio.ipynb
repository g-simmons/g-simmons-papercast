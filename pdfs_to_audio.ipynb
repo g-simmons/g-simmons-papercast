{
 "cells": [
  {
   "cell_type": "code",
   "execution_count": 38,
   "id": "artistic-commerce",
   "metadata": {
    "scrolled": true
   },
   "outputs": [],
   "source": [
    "import scipdf\n",
    "import arxiv\n",
    "from tinydb import TinyDB, Query\n",
    "import subprocess"
   ]
  },
  {
   "cell_type": "code",
   "execution_count": 39,
   "id": "cardiac-advocacy",
   "metadata": {},
   "outputs": [],
   "source": [
    "db_path = './db/db.json'\n",
    "db = TinyDB(db_path)"
   ]
  },
  {
   "cell_type": "code",
   "execution_count": 14,
   "id": "lovely-whole",
   "metadata": {},
   "outputs": [],
   "source": [
    "# with open('../data/reading_list.txt','r'):\n",
    "#     arxiv_urls = f."
   ]
  },
  {
   "cell_type": "code",
   "execution_count": 15,
   "id": "still-knife",
   "metadata": {},
   "outputs": [],
   "source": [
    "paper_id = '1912.13318'"
   ]
  },
  {
   "cell_type": "code",
   "execution_count": 37,
   "id": "floppy-heavy",
   "metadata": {},
   "outputs": [],
   "source": [
    "def get_text_from_dict(article_dict):\n",
    "    ret = [article_dict['title'],article_dict['abstract']]\n",
    "    for section in article_dict['sections']:\n",
    "        ret.append(section['heading'])\n",
    "        ret.append(section['text'])\n",
    "    return '\\n\\n'.join(ret)"
   ]
  },
  {
   "cell_type": "code",
   "execution_count": 35,
   "id": "sudden-secretariat",
   "metadata": {},
   "outputs": [],
   "source": [
    "def _download_and_upsert_db(db, arxiv_id, overwrite=False):\n",
    "    doc = {}\n",
    "    results = arxiv.query(id_list=[paper_id])\n",
    "    \n",
    "    try:\n",
    "        doc['doi'] = results[0]['doi']\n",
    "    except:\n",
    "        raise ValueError(\"\"\"DOI object field must be populated to deposit article to database.\"\"\")\n",
    "    \n",
    "    doc['title'] = results[0]['title']\n",
    "    doc['arxiv_id'] = arxiv_id\n",
    "    doc['authors'] = results[0]['authors']\n",
    "    outpath = arxiv.arxiv.download(results[0], dirpath='./data/pdfs')\n",
    "    print(f'Downloaded pdf to {outpath}')\n",
    "    doc['outpath'] = outpath\n",
    "    \n",
    "    article_dict = scipdf.parse_pdf_to_dict(outpath)\n",
    "    print(f'Parsed pdf at {outpath}')\n",
    "    \n",
    "    doc['article_content'] = article_dict\n",
    "    txt = get_text_from_dict(article_dict)\n",
    "    doc['text'] = txt\n",
    "    \n",
    "    txtpath = path.replace('pdf','txt')\n",
    "    \n",
    "    with open(txtpath,'w') as f:\n",
    "        f.write(txt)\n",
    "    print(f'Wrote txt to {txtpath}')\n",
    "    \n",
    "    q = Query()\n",
    "    if not overwrite and db.search(q.doi == doc['doi']):\n",
    "        raise KeyError(\"DOI already exists in database.\")\n",
    "    else:\n",
    "        db.upsert(doc, q.doi == doc['doi'])\n",
    "    pass"
   ]
  },
  {
   "cell_type": "code",
   "execution_count": 36,
   "id": "accepted-travel",
   "metadata": {},
   "outputs": [],
   "source": [
    "_download_and_upsert_db(db,paper_id,overwrite=True)"
   ]
  },
  {
   "cell_type": "code",
   "execution_count": 35,
   "id": "perfect-islam",
   "metadata": {},
   "outputs": [],
   "source": [
    "def _say(txtpath):\n",
    "    aiffpath = txtpath.replace('txt','aiff')\n",
    "    cmd = ['say','-f',txtpath,'-o',aiffpath]\n",
    "    subprocess.run(cmd)"
   ]
  }
 ],
 "metadata": {
  "kernelspec": {
   "display_name": "Python 3",
   "language": "python",
   "name": "python3"
  },
  "language_info": {
   "codemirror_mode": {
    "name": "ipython",
    "version": 3
   },
   "file_extension": ".py",
   "mimetype": "text/x-python",
   "name": "python",
   "nbconvert_exporter": "python",
   "pygments_lexer": "ipython3",
   "version": "3.9.2"
  }
 },
 "nbformat": 4,
 "nbformat_minor": 5
}
