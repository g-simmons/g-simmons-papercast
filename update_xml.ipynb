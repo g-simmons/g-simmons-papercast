{
 "cells": [
  {
   "cell_type": "code",
   "execution_count": 10,
   "id": "funded-custom",
   "metadata": {},
   "outputs": [],
   "source": [
    "from jinja2 import Template\n",
    "from tinydb import TinyDB, Query"
   ]
  },
  {
   "cell_type": "code",
   "execution_count": 11,
   "id": "falling-genesis",
   "metadata": {},
   "outputs": [],
   "source": [
    "# TODO\n",
    "# db = TinyDB('../db/db.json')\n",
    "# episode_meta = []\n",
    "# for doc in iter(db):\n",
    "#     episode_meta.append(_get_episode_meta(doc))"
   ]
  },
  {
   "cell_type": "code",
   "execution_count": 5,
   "id": "mineral-software",
   "metadata": {},
   "outputs": [],
   "source": [
    "import os\n",
    "from mutagen.mp3 import MP3\n",
    "mp3filename = './data/mp3s/1912.13318v5.LayoutLM_Pre_training_of_Text_and_Layout_for_Document_Image_Understanding.mp3'"
   ]
  },
  {
   "cell_type": "code",
   "execution_count": 8,
   "id": "abstract-former",
   "metadata": {},
   "outputs": [],
   "source": [
    "def _get_mp3_size_length(mp3_path: str):\n",
    "    statinfo = os.stat(mp3filename)\n",
    "    size = str(statinfo.st_size)\n",
    "\n",
    "    audio = MP3(mp3filename)\n",
    "    length = str(audio.info.length)\n",
    "    return size, length"
   ]
  },
  {
   "cell_type": "code",
   "execution_count": 6,
   "id": "grateful-ballet",
   "metadata": {},
   "outputs": [],
   "source": [
    "episode_meta = [\n",
    "    {\n",
    "        'title':'LayoutLM: Pre-training of Text and Layout for Document Image Understanding',\n",
    "        'subtitle':'',\n",
    "        'description':\"\"\"\n",
    "        Pre-training techniques have been verified successfully in a variety of NLP tasks in recent years. Despite the widespread use of pre-training models for NLP applications, they almost exclusively focus on text-level manipulation, while neglecting layout and style information that is vital for document image understanding. In this paper, we propose the LayoutLM to jointly model interactions between text and layout information across scanned document images, which is beneficial for a great number of real-world document image understanding tasks such as information extraction from scanned documents. Furthermore, we also leverage image features to incorporate words' visual information into LayoutLM. To the best of our knowledge, this is the first time that text and layout are jointly learned in a single framework for document-level pre-training. It achieves new state-of-the-art results in several downstream tasks, including form understanding (from 70.72 to 79.27), receipt understanding (from 94.02 to 95.24) and document image classification (from 93.07 to 94.42). \n",
    "        \"\"\",\n",
    "        'mp3path':'https://g-simmons.github.io/g-simmons-papercast/data/mp3s/1912.13318v5.LayoutLM_Pre_training_of_Text_and_Layout_for_Document_Image_Understanding.mp3',\n",
    "        'duration':'2326.413',\n",
    "        'season':1,\n",
    "        'episode':0,\n",
    "    }\n",
    "]"
   ]
  },
  {
   "cell_type": "code",
   "execution_count": 7,
   "id": "expanded-banner",
   "metadata": {},
   "outputs": [],
   "source": [
    "template = Template(open('./template/template.xml.jinja','r').read())\n",
    "with open('./feed.xml','w') as f:\n",
    "    f.write(template.render(episode_meta=episode_meta))"
   ]
  }
 ],
 "metadata": {
  "kernelspec": {
   "display_name": "Python 3",
   "language": "python",
   "name": "python3"
  },
  "language_info": {
   "codemirror_mode": {
    "name": "ipython",
    "version": 3
   },
   "file_extension": ".py",
   "mimetype": "text/x-python",
   "name": "python",
   "nbconvert_exporter": "python",
   "pygments_lexer": "ipython3",
   "version": "3.9.2"
  }
 },
 "nbformat": 4,
 "nbformat_minor": 5
}
